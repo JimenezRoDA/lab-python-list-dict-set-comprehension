{
 "cells": [
  {
   "cell_type": "markdown",
   "id": "25d7736c-ba17-4aff-b6bb-66eba20fbf4e",
   "metadata": {},
   "source": [
    "# Lab | List, Dict and Set Comprehension"
   ]
  },
  {
   "cell_type": "markdown",
   "id": "7dd3cbde-675a-4b81-92c3-f728846dbe06",
   "metadata": {},
   "source": [
    "## Exercise: Managing Customer Orders Optimized with Comprehension"
   ]
  },
  {
   "cell_type": "markdown",
   "id": "5d500160-2fb7-4777-b5e4-09d45ebaf328",
   "metadata": {},
   "source": [
    "In the previous exercise, you developed a program to manage customer orders and inventory. Now, let's take it a step further and incorporate comprehension into your code.\n",
    "\n",
    "Follow the steps below to complete the exercise:\n",
    "\n",
    "1. Review your code from the previous exercise and identify areas where you can apply comprehension to simplify and streamline your code. \n",
    "\n",
    "    - *Hint: Apply it to initialize inventory, updating the inventory and printing the updated inventory.*\n",
    "    \n",
    "    - For example, in initializing the inventory, we could have:\n",
    "    \n",
    "        ```python\n",
    "        def initialize_inventory(products):\n",
    "            inventory = {product: int(input(f\"Enter the quantity of {product}s available: \")) for product in products}\n",
    "            return inventory\n",
    "\n",
    "        ```\n",
    "<br>\n",
    "    \n",
    "    \n",
    "2. Modify the function get_customer_orders so it prompts the user to enter the number of customer orders and gathers the product names using a loop and user input. Use comprehension.\n",
    "\n",
    "3. Add a new function to calculate the total price of the customer order. For each product in customer_orders, prompt the user to enter the price of that product. Use comprehension to calculate the total price. Note: assume that the user can only have 1 unit of each product.\n",
    "\n",
    "4. Modify the update_inventory function to remove the product from the inventory if its quantity becomes zero after fulfilling the customer orders. Use comprehension to filter out the products with a quantity of zero from the inventory.\n",
    "\n",
    "5. Print the total price of the customer order.\n",
    "\n",
    "Your code should produce output similar to the following:\n",
    "\n",
    "```python\n",
    "Enter the quantity of t-shirts available:  5\n",
    "Enter the quantity of mugs available:  4\n",
    "Enter the quantity of hats available:  3\n",
    "Enter the quantity of books available:  2\n",
    "Enter the quantity of keychains available:  1\n",
    "Enter the number of customer orders:  2\n",
    "Enter the name of a product that a customer wants to order:  hat\n",
    "Enter the name of a product that a customer wants to order:  keychain\n",
    "\n",
    "Order Statistics:\n",
    "Total Products Ordered: 2\n",
    "Percentage of Unique Products Ordered: 40.0\n",
    "\n",
    "Updated Inventory:\n",
    "t-shirt: 5\n",
    "mug: 4\n",
    "hat: 2\n",
    "book: 2\n",
    "Enter the price of keychain:  5\n",
    "Enter the price of hat:  10\n",
    "Total Price: 15.0\n",
    "\n",
    "```\n"
   ]
  },
  {
   "cell_type": "code",
   "execution_count": 107,
   "id": "38bcae6b",
   "metadata": {},
   "outputs": [],
   "source": [
    "products = [\"t-shirt\", \"mug\", \"hat\", \"book\", \"keychain\"]\n",
    "def initialize_inventory (products):\n",
    "    inventory = {product: int(input(f\"Enter the quantity of {product}s available: \")) for product in products}\n",
    "    return inventory"
   ]
  },
  {
   "cell_type": "code",
   "execution_count": 108,
   "id": "c105652f",
   "metadata": {},
   "outputs": [],
   "source": [
    "inventory = initialize_inventory (products)"
   ]
  },
  {
   "cell_type": "code",
   "execution_count": 109,
   "id": "3a398d30",
   "metadata": {},
   "outputs": [
    {
     "name": "stdout",
     "output_type": "stream",
     "text": [
      "{'t-shirt': 3, 'mug': 3, 'hat': 3, 'book': 3, 'keychain': 3}\n"
     ]
    }
   ],
   "source": [
    "print (inventory)"
   ]
  },
  {
   "cell_type": "code",
   "execution_count": 120,
   "id": "89d07a6f",
   "metadata": {},
   "outputs": [],
   "source": [
    "\n",
    "def get_customer_orders ():\n",
    "    num_order = int(input(\"Enter the number of customer orders:\"))\n",
    "    customer_orders = set (input (\"Enter the name of a product that a customer wants to order:\") for x in range(num_order))\n",
    "    return customer_orders"
   ]
  },
  {
   "cell_type": "code",
   "execution_count": 121,
   "id": "57cc1508",
   "metadata": {},
   "outputs": [],
   "source": [
    "customer_orders = get_customer_orders ()"
   ]
  },
  {
   "cell_type": "code",
   "execution_count": 129,
   "id": "ec8a54bf",
   "metadata": {},
   "outputs": [],
   "source": [
    "def update_inventory (customer_orders, inventory):\n",
    "    inventory = {product: inventory[product]- 1 if product in customer_orders else inventory[product] for product in inventory}\n",
    "    inventory = {product: quantity for product, quantity in inventory.items() if quantity> 0}\n",
    "    return inventory"
   ]
  },
  {
   "cell_type": "code",
   "execution_count": null,
   "id": "396accdd",
   "metadata": {},
   "outputs": [],
   "source": [
    "inventory = update_inventory (customer_orders, inventory)"
   ]
  },
  {
   "cell_type": "code",
   "execution_count": 124,
   "id": "a26c3a65",
   "metadata": {},
   "outputs": [
    {
     "name": "stdout",
     "output_type": "stream",
     "text": [
      "{'t-shirt': 3, 'mug': 3, 'keychain': 3}\n"
     ]
    }
   ],
   "source": [
    "print(inventory)"
   ]
  },
  {
   "cell_type": "code",
   "execution_count": null,
   "id": "a545a69b",
   "metadata": {},
   "outputs": [],
   "source": [
    "def calculate_total_price (customer_orders):\n",
    "    prices = {product: int(input(f\"Ponle un presio a {product}:\")) for product in customer_orders}\n",
    "    total = sum(prices.values())\n",
    "    return total \n",
    "        "
   ]
  },
  {
   "cell_type": "code",
   "execution_count": 96,
   "id": "b29d3423",
   "metadata": {},
   "outputs": [],
   "source": [
    "total = calculate_total_price (customer_orders)"
   ]
  },
  {
   "cell_type": "code",
   "execution_count": 97,
   "id": "2c1f82be",
   "metadata": {},
   "outputs": [
    {
     "name": "stdout",
     "output_type": "stream",
     "text": [
      "7\n"
     ]
    }
   ],
   "source": [
    "print (total)"
   ]
  },
  {
   "cell_type": "code",
   "execution_count": 98,
   "id": "853f512e",
   "metadata": {},
   "outputs": [],
   "source": [
    "def calculate_order_statistics (customer_orders, products):\n",
    "    total_products_ordered = len(customer_orders)\n",
    "    percentage_ordered = (total_products_ordered / len(products)) * 100\n",
    "    return total_products_ordered, percentage_ordered"
   ]
  },
  {
   "cell_type": "code",
   "execution_count": 99,
   "id": "c68993bd",
   "metadata": {},
   "outputs": [
    {
     "name": "stdout",
     "output_type": "stream",
     "text": [
      "(2, 40.0)\n"
     ]
    }
   ],
   "source": [
    "order_statistics = calculate_order_statistics (customer_orders, products)\n",
    "print(order_statistics)"
   ]
  },
  {
   "cell_type": "code",
   "execution_count": null,
   "id": "48cd36dc",
   "metadata": {},
   "outputs": [],
   "source": [
    "def initialize_inventory(products):\n",
    "    inventory = {product: int(input(f\"Enter the quantity of {product}s available: \")) for product in products}\n",
    "    return inventory\n",
    "\n",
    "def get_customer_orders():\n",
    "    num_order = int(input(\"Enter the number of customer orders:\"))\n",
    "    customer_orders = set(input(\"Enter the name of a product that a customer wants to order:\") for x in range(num_order))\n",
    "    return customer_orders\n",
    "\n",
    "def update_inventory(customer_orders, inventory):\n",
    "    inventory = {product: inventory[product]- 1 if product in customer_orders else inventory[product] for product in inventory}\n",
    "    inventory = {product: quantity for product, quantity in inventory.items() if quantity> 0}\n",
    "    return inventory\n",
    "\n",
    "def calculate_total_price(customer_orders):\n",
    "    prices = {product: int(input(f\"Ponle un presio a {product}:\")) for product in customer_orders}\n",
    "    total = sum(prices.values())\n",
    "    return total\n",
    "\n",
    "def calculate_order_statistics(customer_orders, products):\n",
    "    total_products_ordered = len(customer_orders)\n",
    "    percentage_ordered = (total_products_ordered / len(products)) * 100\n",
    "    return total_products_ordered, percentage_ordered\n",
    "\n",
    "def print_order_statistics (order_statistics):\n",
    "    print(f\"The order statistics: Products ordered: {order_statistics[0]} Percentage of products ordered: {order_statistics[1]}\")\n",
    "\n",
    "def print_updated_inventory (inventory):\n",
    "    print(inventory)\n",
    "        "
   ]
  },
  {
   "cell_type": "code",
   "execution_count": null,
   "id": "003cd877",
   "metadata": {},
   "outputs": [
    {
     "name": "stdout",
     "output_type": "stream",
     "text": [
      "{'t-shirt': 3, 'mug': 4, 'hat': 2, 'book': 3, 'keychain': 4}\n",
      "{'mug', 'hat'}\n",
      "{'t-shirt': 3, 'mug': 3, 'hat': 1, 'book': 3, 'keychain': 4}\n",
      "tienes que pagarme esto: 7\n",
      "The order statistics: Products ordered: 2 Percentage of products ordered: 40.0\n"
     ]
    }
   ],
   "source": [
    "\n",
    "products = [\"t-shirt\", \"mug\", \"hat\", \"book\", \"keychain\"]\n",
    "inventory = initialize_inventory(products)\n",
    "print(inventory)\n",
    "customer_orders = get_customer_orders()\n",
    "print(customer_orders)\n",
    "inventory = update_inventory (customer_orders, inventory)\n",
    "print_updated_inventory (inventory)\n",
    "total = calculate_total_price (customer_orders)\n",
    "print(f\"Tienes que pagarme esto: {total}\")\n",
    "order_statistics = calculate_order_statistics (customer_orders, products)\n",
    "print_order_statistics (order_statistics)\n"
   ]
  },
  {
   "cell_type": "code",
   "execution_count": null,
   "id": "c46e4dec",
   "metadata": {},
   "outputs": [],
   "source": []
  }
 ],
 "metadata": {
  "kernelspec": {
   "display_name": "base",
   "language": "python",
   "name": "python3"
  },
  "language_info": {
   "codemirror_mode": {
    "name": "ipython",
    "version": 3
   },
   "file_extension": ".py",
   "mimetype": "text/x-python",
   "name": "python",
   "nbconvert_exporter": "python",
   "pygments_lexer": "ipython3",
   "version": "3.12.7"
  }
 },
 "nbformat": 4,
 "nbformat_minor": 5
}
